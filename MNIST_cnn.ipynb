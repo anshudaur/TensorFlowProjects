{
  "nbformat": 4,
  "nbformat_minor": 0,
  "metadata": {
    "colab": {
      "name": "MNIST_cnn.ipynb",
      "provenance": [],
      "collapsed_sections": [],
      "toc_visible": true,
      "include_colab_link": true
    },
    "kernelspec": {
      "name": "python3",
      "display_name": "Python 3"
    }
  },
  "cells": [
    {
      "cell_type": "markdown",
      "metadata": {
        "id": "view-in-github",
        "colab_type": "text"
      },
      "source": [
        "<a href=\"https://colab.research.google.com/github/anshudaur/TensorFlowProjects/blob/master/MNIST_cnn.ipynb\" target=\"_parent\"><img src=\"https://colab.research.google.com/assets/colab-badge.svg\" alt=\"Open In Colab\"/></a>"
      ]
    },
    {
      "cell_type": "code",
      "metadata": {
        "id": "7et3lTtTttSQ",
        "colab_type": "code",
        "outputId": "7e35c0c3-90cf-456f-f6ff-f6ed0d7632e8",
        "colab": {
          "base_uri": "https://localhost:8080/",
          "height": 130
        }
      },
      "source": [
        "import tensorflow as tf\n",
        "import numpy as np\n",
        "import matplotlib.pyplot as plt\n",
        "from datasets import MNISTDataset\n",
        "from keras.datasets import mnist\n",
        "from keras.models import Sequential\n",
        "from keras.layers import Dense\n",
        "from keras.utils import np_utils\n",
        "\n",
        "def main():\n",
        "\t# load data\n",
        "\t(X_train, y_train), (X_test, y_test) = mnist.load_data(plt.imshow(train_images[0], cmap=\"Greys_r\")\n",
        "\tprint(\"input dataset shape : \" , X_train.shape,y_train.shape ,X_test.shape, y_test.shape)\n",
        "\t# flatten 28*28 images to a 784 vector for each image\n",
        "\tnum_pixels = X_train.shape[1] * X_train.shape[2]\n",
        "  X_train = X_train.reshape((X_train.shape[0], num_pixels)).astype('float32')\n",
        "\tX_test = X_test.reshape((X_test.shape[0], num_pixels)).astype('float32')\n",
        "\t# normalize inputs from 0-255 to 0-1\n",
        "\tX_train = X_train / 255\n",
        "\tX_test = X_test / 255\n",
        "\t# one hot encode outputs\n",
        "\ty_train = np_utils.to_categorical(y_train)\n",
        "\ty_test = np_utils.to_categorical(y_test)\n",
        "\tnum_classes = y_test.shape[1]\n",
        "\t# define baseline model\n",
        "\tdef baseline_model():\n",
        "\t\t# create model\n",
        "\t\tmodel = Sequential()\n",
        "\t\tmodel.add(Dense(num_pixels, input_dim=num_pixels, kernel_initializer='normal', activation='relu'))\n",
        "\t\tmodel.add(Dense(num_classes, kernel_initializer='normal', activation='softmax'))\n",
        "\t\t# Compile model\n",
        "\t\tmodel.compile(loss='categorical_crossentropy', optimizer='adam', metrics=['accuracy'])\n",
        "\t\treturn model\n",
        "\t# build the model\n",
        "\tmodel = baseline_model()\n",
        "\t# Fit the model\n",
        "\tmodel.fit(X_train, y_train, validation_data=(X_test, y_test), epochs=10, batch_size=200, verbose=2)\n",
        "\t# Final evaluation of the model\n",
        "\tscores = model.evaluate(X_test, y_test, verbose=0)\n",
        "\tprint(\"Baseline Error: %.2f%%\" % (100-scores[1]*100))'''\n",
        "\n",
        "if __name__ == '__main__':\n",
        "    main();"
      ],
      "execution_count": 17,
      "outputs": [
        {
          "output_type": "error",
          "ename": "IndentationError",
          "evalue": "ignored",
          "traceback": [
            "\u001b[0;36m  File \u001b[0;32m\"<ipython-input-17-784829e69cc4>\"\u001b[0;36m, line \u001b[0;32m16\u001b[0m\n\u001b[0;31m    print(num_pixels.shape )\u001b[0m\n\u001b[0m                            ^\u001b[0m\n\u001b[0;31mIndentationError\u001b[0m\u001b[0;31m:\u001b[0m unindent does not match any outer indentation level\n"
          ]
        }
      ]
    },
    {
      "cell_type": "markdown",
      "metadata": {
        "id": "5esNFDYMAfWk",
        "colab_type": "text"
      },
      "source": [
        "# New Section"
      ]
    },
    {
      "cell_type": "code",
      "metadata": {
        "id": "1hz3K6F1x_ik",
        "colab_type": "code",
        "colab": {}
      },
      "source": [
        ""
      ],
      "execution_count": 0,
      "outputs": []
    }
  ]
}
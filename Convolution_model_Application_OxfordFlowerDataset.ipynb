{
  "nbformat": 4,
  "nbformat_minor": 0,
  "metadata": {
    "coursera": {
      "course_slug": "convolutional-neural-networks",
      "graded_item_id": "bwbJV",
      "launcher_item_id": "0TkXB"
    },
    "kernelspec": {
      "display_name": "Python 3",
      "language": "python",
      "name": "python3"
    },
    "language_info": {
      "codemirror_mode": {
        "name": "ipython",
        "version": 3
      },
      "file_extension": ".py",
      "mimetype": "text/x-python",
      "name": "python",
      "nbconvert_exporter": "python",
      "pygments_lexer": "ipython3",
      "version": "3.6.0"
    },
    "colab": {
      "name": "Convolution_model_Application_v1a.ipynb",
      "provenance": [],
      "collapsed_sections": [],
      "toc_visible": true,
      "include_colab_link": true
    }
  },
  "cells": [
    {
      "cell_type": "markdown",
      "metadata": {
        "id": "view-in-github",
        "colab_type": "text"
      },
      "source": [
        "<a href=\"https://colab.research.google.com/github/anshudaur/TensorFlowProjects/blob/master/Convolution_model_Application_OxfordFlowerDataset.ipynb\" target=\"_parent\"><img src=\"https://colab.research.google.com/assets/colab-badge.svg\" alt=\"Open In Colab\"/></a>"
      ]
    },
    {
      "cell_type": "markdown",
      "metadata": {
        "id": "MQurvW-kLd-5",
        "colab_type": "text"
      },
      "source": [
        "## 1.0 - TensorFlow model\n",
        "\n",
        "In the previous assignment, you built helper functions using numpy to understand the mechanics behind convolutional neural networks. Most practical applications of deep learning today are built using programming frameworks, which have many built-in functions you can simply call. \n",
        "\n",
        "As usual, we will start by loading in the packages. "
      ]
    },
    {
      "cell_type": "code",
      "metadata": {
        "id": "tseShx-zu41u",
        "colab_type": "code",
        "colab": {
          "base_uri": "https://localhost:8080/",
          "height": 377
        },
        "outputId": "d1483a34-aff7-422e-f1e4-a1df57c0e3a3"
      },
      "source": [
        "pip install tensorflow-datasets"
      ],
      "execution_count": 1,
      "outputs": [
        {
          "output_type": "stream",
          "text": [
            "Requirement already satisfied: tensorflow-datasets in /usr/local/lib/python3.6/dist-packages (1.3.0)\n",
            "Requirement already satisfied: future in /usr/local/lib/python3.6/dist-packages (from tensorflow-datasets) (0.16.0)\n",
            "Requirement already satisfied: protobuf>=3.6.1 in /usr/local/lib/python3.6/dist-packages (from tensorflow-datasets) (3.10.0)\n",
            "Requirement already satisfied: six in /usr/local/lib/python3.6/dist-packages (from tensorflow-datasets) (1.12.0)\n",
            "Requirement already satisfied: tqdm in /usr/local/lib/python3.6/dist-packages (from tensorflow-datasets) (4.28.1)\n",
            "Requirement already satisfied: absl-py in /usr/local/lib/python3.6/dist-packages (from tensorflow-datasets) (0.8.1)\n",
            "Requirement already satisfied: dill in /usr/local/lib/python3.6/dist-packages (from tensorflow-datasets) (0.3.1.1)\n",
            "Requirement already satisfied: attrs in /usr/local/lib/python3.6/dist-packages (from tensorflow-datasets) (19.3.0)\n",
            "Requirement already satisfied: promise in /usr/local/lib/python3.6/dist-packages (from tensorflow-datasets) (2.2.1)\n",
            "Requirement already satisfied: requests>=2.19.0 in /usr/local/lib/python3.6/dist-packages (from tensorflow-datasets) (2.21.0)\n",
            "Requirement already satisfied: wrapt in /usr/local/lib/python3.6/dist-packages (from tensorflow-datasets) (1.11.2)\n",
            "Requirement already satisfied: termcolor in /usr/local/lib/python3.6/dist-packages (from tensorflow-datasets) (1.1.0)\n",
            "Requirement already satisfied: numpy in /usr/local/lib/python3.6/dist-packages (from tensorflow-datasets) (1.17.4)\n",
            "Requirement already satisfied: tensorflow-metadata in /usr/local/lib/python3.6/dist-packages (from tensorflow-datasets) (0.15.1)\n",
            "Requirement already satisfied: setuptools in /usr/local/lib/python3.6/dist-packages (from protobuf>=3.6.1->tensorflow-datasets) (41.6.0)\n",
            "Requirement already satisfied: idna<2.9,>=2.5 in /usr/local/lib/python3.6/dist-packages (from requests>=2.19.0->tensorflow-datasets) (2.8)\n",
            "Requirement already satisfied: chardet<3.1.0,>=3.0.2 in /usr/local/lib/python3.6/dist-packages (from requests>=2.19.0->tensorflow-datasets) (3.0.4)\n",
            "Requirement already satisfied: urllib3<1.25,>=1.21.1 in /usr/local/lib/python3.6/dist-packages (from requests>=2.19.0->tensorflow-datasets) (1.24.3)\n",
            "Requirement already satisfied: certifi>=2017.4.17 in /usr/local/lib/python3.6/dist-packages (from requests>=2.19.0->tensorflow-datasets) (2019.9.11)\n",
            "Requirement already satisfied: googleapis-common-protos in /usr/local/lib/python3.6/dist-packages (from tensorflow-metadata->tensorflow-datasets) (1.6.0)\n"
          ],
          "name": "stdout"
        }
      ]
    },
    {
      "cell_type": "code",
      "metadata": {
        "id": "dYdNpTDDLd-6",
        "colab_type": "code",
        "colab": {}
      },
      "source": [
        "import tensorflow.compat.v1 as tf\n",
        "tf.disable_v2_behavior()\n",
        "\n",
        "import math\n",
        "import numpy as np\n",
        "import h5py\n",
        "import matplotlib.pyplot as plt\n",
        "import scipy\n",
        "from PIL import Image\n",
        "from scipy import ndimage\n",
        "import tensorflow as tf\n",
        "from tensorflow.python.framework import ops\n",
        "import tensorflow_datasets.public_api as tfds\n",
        "\n",
        "#code to upload cnn_utils.py file in colab\n",
        "'''from google.colab import files\n",
        "src = list(files.upload().values())[0]\n",
        "open('cnn_utils.py','wb').write(src)'''\n",
        "import cnn_utils\n",
        "\n",
        "%matplotlib inline\n",
        "np.random.seed(1)"
      ],
      "execution_count": 0,
      "outputs": []
    },
    {
      "cell_type": "markdown",
      "metadata": {
        "id": "99TSxOktLd-9",
        "colab_type": "text"
      },
      "source": [
        "Run the next cell to load the \"SIGNS\" dataset you are going to use."
      ]
    },
    {
      "cell_type": "code",
      "metadata": {
        "id": "ql_-amdcLd--",
        "colab_type": "code",
        "outputId": "92d6cfe3-6676-4f26-bc9b-9bde92407541",
        "colab": {
          "base_uri": "https://localhost:8080/",
          "height": 71
        }
      },
      "source": [
        "import tensorflow as tf\n",
        "import tensorflow_datasets as tfds\n",
        "\n",
        "# tfds works in both Eager and Graph modes\n",
        "#tf.compat.v1.enable_eager_execution()\n",
        "\n",
        "# See available datasets\n",
        "print(tfds.list_builders())\n",
        "\n",
        "# Construct a tf.data.Dataset \n",
        "SPLIT_WEIGHTS = (6, 2, 2)\n",
        "splits = tfds.Split.ALL.subsplit(weighted=SPLIT_WEIGHTS)\n",
        "train_dataset,validation_dataset,test_dataset  = tfds.load(name=\"oxford_flowers102\", split=list(splits) , \n",
        "                                                           shuffle_files=True,\n",
        "                                                        download=True, as_supervised=True,\n",
        "                                                        decoders={'image': tfds.decode.SkipDecoding()})\n",
        "\n",
        "print(train_dataset)"
      ],
      "execution_count": 32,
      "outputs": [
        {
          "output_type": "stream",
          "text": [
            "['abstract_reasoning', 'aeslc', 'aflw2k3d', 'amazon_us_reviews', 'bair_robot_pushing_small', 'big_patent', 'bigearthnet', 'billsum', 'binarized_mnist', 'binary_alpha_digits', 'c4', 'caltech101', 'caltech_birds2010', 'caltech_birds2011', 'cars196', 'cassava', 'cats_vs_dogs', 'celeb_a', 'celeb_a_hq', 'chexpert', 'cifar10', 'cifar100', 'cifar10_1', 'cifar10_corrupted', 'clevr', 'cmaterdb', 'cnn_dailymail', 'coco', 'coco2014', 'coil100', 'colorectal_histology', 'colorectal_histology_large', 'curated_breast_imaging_ddsm', 'cycle_gan', 'deep_weeds', 'definite_pronoun_resolution', 'diabetic_retinopathy_detection', 'downsampled_imagenet', 'dsprites', 'dtd', 'dummy_dataset_shared_generator', 'dummy_mnist', 'emnist', 'eurosat', 'fashion_mnist', 'flores', 'food101', 'gap', 'gigaword', 'glue', 'groove', 'higgs', 'horses_or_humans', 'image_label_folder', 'imagenet2012', 'imagenet2012_corrupted', 'imagenet_resized', 'imdb_reviews', 'iris', 'kitti', 'kmnist', 'lfw', 'lm1b', 'lsun', 'malaria', 'mnist', 'mnist_corrupted', 'moving_mnist', 'multi_news', 'multi_nli', 'multi_nli_mismatch', 'newsroom', 'nsynth', 'omniglot', 'open_images_v4', 'oxford_flowers102', 'oxford_iiit_pet', 'para_crawl', 'patch_camelyon', 'pet_finder', 'places365_small', 'quickdraw_bitmap', 'reddit_tifu', 'resisc45', 'rock_paper_scissors', 'rock_you', 'scene_parse150', 'scientific_papers', 'shapes3d', 'smallnorb', 'snli', 'so2sat', 'squad', 'stanford_dogs', 'stanford_online_products', 'starcraft_video', 'sun397', 'super_glue', 'svhn_cropped', 'ted_hrlr_translate', 'ted_multi_translate', 'tf_flowers', 'the300w_lp', 'titanic', 'trivia_qa', 'uc_merced', 'ucf101', 'visual_domain_decathlon', 'voc', 'wider_face', 'wikihow', 'wikipedia', 'wmt14_translate', 'wmt15_translate', 'wmt16_translate', 'wmt17_translate', 'wmt18_translate', 'wmt19_translate', 'wmt_t2t_translate', 'wmt_translate', 'xnli', 'xsum']\n",
            "<DatasetV1Adapter shapes: ((), ()), types: (tf.string, tf.int64)>\n"
          ],
          "name": "stdout"
        }
      ]
    },
    {
      "cell_type": "code",
      "metadata": {
        "id": "O-frRCL_CSNP",
        "colab_type": "code",
        "colab": {
          "base_uri": "https://localhost:8080/",
          "height": 34
        },
        "outputId": "dbd025fd-8951-458e-f3ec-9fe61d37ab89"
      },
      "source": [
        "\n",
        "def format_example(image, label):      \n",
        "    image_decoded = tf.image.decode_jpeg(image, channels=3)\n",
        "    image = tf.cast(image_decoded, tf.float32)\n",
        "    # Normalize the pixel values\n",
        "    image = image / 255.0\n",
        "    # Resize the image\n",
        "    image = tf.image.resize(image, (64, 64))\n",
        "    return image, label\n",
        "\n",
        "train = train_dataset.map(format_example)\n",
        "print(train)\n",
        "validation = validation_dataset.map(format_example)\n",
        "test = test_dataset.map(format_example)"
      ],
      "execution_count": 71,
      "outputs": [
        {
          "output_type": "stream",
          "text": [
            "<DatasetV1Adapter shapes: ((64, 64, 3), ()), types: (tf.float32, tf.int64)>\n"
          ],
          "name": "stdout"
        }
      ]
    },
    {
      "cell_type": "code",
      "metadata": {
        "id": "ASxXOlT_4zAo",
        "colab_type": "code",
        "colab": {
          "base_uri": "https://localhost:8080/",
          "height": 68
        },
        "outputId": "6382c61f-508a-4c1f-a4db-4be938e3b19f"
      },
      "source": [
        "def augment_data(image, label):\n",
        "  print(\"Augment data called!\")\n",
        "  image = tf.image.central_crop(image,central_fraction=0.7)\n",
        "  print(image.shape)\n",
        "  image = tf.image.random_crop(image,size=[32, 32, 3])\n",
        "  image = tf.image.random_flip_left_right(image)\n",
        "  image = tf.image.random_flip_up_down(image)\n",
        "  #image = tf.image.random_contrast(image, lower=0.0, upper=1.0)\n",
        "  image = tf.image.random_brightness(image, max_delta=32.0 / 255.0)\n",
        "  image = tf.image.random_saturation(image, lower=0.5, upper=1.5)\n",
        "  # Make sure the image is still in [0, 1]\n",
        "  image = tf.clip_by_value(image, 0.0, 1.0)\n",
        "  # Add more augmentation of your choice\n",
        "  return image, label\n",
        "\n",
        "train = train.map(augment_data)\n",
        "print(train.output_shapes)"
      ],
      "execution_count": 72,
      "outputs": [
        {
          "output_type": "stream",
          "text": [
            "Augment data called!\n",
            "(46, 46, 3)\n",
            "(TensorShape([Dimension(32), Dimension(32), Dimension(3)]), TensorShape([]))\n"
          ],
          "name": "stdout"
        }
      ]
    },
    {
      "cell_type": "code",
      "metadata": {
        "id": "CO_oK3qDp5Rs",
        "colab_type": "code",
        "colab": {
          "base_uri": "https://localhost:8080/",
          "height": 886
        },
        "outputId": "64b10eeb-1957-4941-e810-4fb55fdc3794"
      },
      "source": [
        "import matplotlib.pyplot as plt\n",
        "import numpy\n",
        "\n",
        "'''ds = image_label_ds.apply( tf.data.experimental.shuffle_and_repeat(buffer_size=image_count))\n",
        "ds = ds.batch(BATCH_SIZE)\n",
        "ds = ds.prefetch(buffer_size=AUTOTUNE)'''\n",
        "\n",
        "plt.figure(figsize=(12,12)) \n",
        "\n",
        "for batch in tfds.as_numpy(train):\n",
        "  print(batch[0].shape)\n",
        "  for i in range(9):\n",
        "    #print(batch[0][i].shape, batch[1][i])\n",
        "    image, label = batch[0], batch[1]\n",
        "    print(image.shape)\n",
        "    plt.subplot(3, 3, i+1)\n",
        "    plt.imshow(image)\n",
        "    plt.title(label)\n",
        "    plt.grid(False)\n",
        "  # We need to break the loop else the outer loop\n",
        "  # will loop over all the batches in the training set\n",
        "  break"
      ],
      "execution_count": 73,
      "outputs": [
        {
          "output_type": "stream",
          "text": [
            "(32, 32, 3)\n",
            "(32, 32, 3)\n",
            "(32, 32, 3)\n",
            "(32, 32, 3)\n",
            "(32, 32, 3)\n",
            "(32, 32, 3)\n",
            "(32, 32, 3)\n",
            "(32, 32, 3)\n",
            "(32, 32, 3)\n",
            "(32, 32, 3)\n"
          ],
          "name": "stdout"
        },
        {
          "output_type": "display_data",
          "data": {
            "image/png": "[encoded data removed]",
            "text/plain": [
              "<Figure size 864x864 with 9 Axes>"
            ]
          },
          "metadata": {
            "tags": []
          }
        }
      ]
    },
    {
      "cell_type": "markdown",
      "metadata": {
        "id": "35BrQb0RLd_G",
        "colab_type": "text"
      },
      "source": [
        "In Course 2, you had built a fully-connected network for this dataset. But since this is an image dataset, it is more natural to apply a ConvNet to it.\n",
        "\n",
        "To get started, let's examine the shapes of your data. "
      ]
    },
    {
      "cell_type": "markdown",
      "metadata": {
        "id": "FQ4U7mawLd_J",
        "colab_type": "text"
      },
      "source": [
        "### 1.1 - Create placeholders\n",
        "\n",
        "TensorFlow requires that you create placeholders for the input data that will be fed into the model when running the session.\n",
        "\n",
        "**Exercise**: Implement the function below to create placeholders for the input image X and the output Y. You should not define the number of training examples for the moment. To do so, you could use \"None\" as the batch size, it will give you the flexibility to choose it later. Hence X should be of dimension **[None, n_H0, n_W0, n_C0]** and Y should be of dimension **[None, n_y]**.  [Hint: search for the tf.placeholder documentation\"](https://www.tensorflow.org/api_docs/python/tf/placeholder)."
      ]
    },
    {
      "cell_type": "code",
      "metadata": {
        "id": "sLhb64XeLd_K",
        "colab_type": "code",
        "colab": {}
      },
      "source": [
        "# GRADED FUNCTION: create_placeholders\n",
        "\n",
        "def create_placeholders(n_H0, n_W0, n_C0, n_y):\n",
        "    \"\"\"\n",
        "    Creates the placeholders for the tensorflow session.\n",
        "    \n",
        "    Arguments:\n",
        "    n_H0 -- scalar, height of an input image\n",
        "    n_W0 -- scalar, width of an input image\n",
        "    n_C0 -- scalar, number of channels of the input\n",
        "    n_y -- scalar, number of classes\n",
        "        \n",
        "    Returns:\n",
        "    X -- placeholder for the data input, of shape [None, n_H0, n_W0, n_C0] and dtype \"float\"\n",
        "    Y -- placeholder for the input labels, of shape [None, n_y] and dtype \"float\"\n",
        "    \"\"\"\n",
        "\n",
        "    ### START CODE HERE ### (≈2 lines)\n",
        "    X =  tf.placeholder(tf.float32,shape=[None, n_H0, n_W0, n_C0])\n",
        "    Y = tf.placeholder(tf.float32,shape=[None, n_y])\n",
        "    ### END CODE HERE ###\n",
        "    \n",
        "    return X, Y"
      ],
      "execution_count": 0,
      "outputs": []
    },
    {
      "cell_type": "code",
      "metadata": {
        "id": "toVxmx2kLd_M",
        "colab_type": "code",
        "outputId": "0943b807-f0c3-439d-854b-2ef3835552e8",
        "colab": {}
      },
      "source": [
        "X, Y = create_placeholders(64, 64, 3, 6)\n",
        "print (\"X = \" + str(X))\n",
        "print (\"Y = \" + str(Y))"
      ],
      "execution_count": 0,
      "outputs": [
        {
          "output_type": "stream",
          "text": [
            "X = Tensor(\"Placeholder_2:0\", shape=(?, 64, 64, 3), dtype=float32)\n",
            "Y = Tensor(\"Placeholder_3:0\", shape=(?, 6), dtype=float32)\n"
          ],
          "name": "stdout"
        }
      ]
    },
    {
      "cell_type": "markdown",
      "metadata": {
        "id": "yI_1en3XLd_Q",
        "colab_type": "text"
      },
      "source": [
        "**Expected Output**\n",
        "\n",
        "<table> \n",
        "<tr>\n",
        "<td>\n",
        "    X = Tensor(\"Placeholder:0\", shape=(?, 64, 64, 3), dtype=float32)\n",
        "\n",
        "</td>\n",
        "</tr>\n",
        "<tr>\n",
        "<td>\n",
        "    Y = Tensor(\"Placeholder_1:0\", shape=(?, 6), dtype=float32)\n",
        "\n",
        "</td>\n",
        "</tr>\n",
        "</table>"
      ]
    },
    {
      "cell_type": "markdown",
      "metadata": {
        "id": "e-8ZfcSxLd_Q",
        "colab_type": "text"
      },
      "source": [
        "### 1.2 - Initialize parameters\n",
        "\n",
        "You will initialize weights/filters $W1$ and $W2$ using `tf.contrib.layers.xavier_initializer(seed = 0)`. You don't need to worry about bias variables as you will soon see that TensorFlow functions take care of the bias. Note also that you will only initialize the weights/filters for the conv2d functions. TensorFlow initializes the layers for the fully connected part automatically. We will talk more about that later in this assignment.\n",
        "\n",
        "**Exercise:** Implement initialize_parameters(). The dimensions for each group of filters are provided below. Reminder - to initialize a parameter $W$ of shape [1,2,3,4] in Tensorflow, use:\n",
        "```python\n",
        "W = tf.get_variable(\"W\", [1,2,3,4], initializer = ...)\n",
        "```\n",
        "#### tf.get_variable()\n",
        "[Search for the tf.get_variable documentation](https://www.tensorflow.org/api_docs/python/tf/get_variable).  Notice that the documentation says:\n",
        "```\n",
        "Gets an existing variable with these parameters or create a new one.\n",
        "```\n",
        "So we can use this function to create a tensorflow variable with the specified name, but if the variables already exist, it will get the existing variable with that same name.\n"
      ]
    },
    {
      "cell_type": "code",
      "metadata": {
        "id": "LkGN788SLd_R",
        "colab_type": "code",
        "colab": {}
      },
      "source": [
        "# GRADED FUNCTION: initialize_parameters\n",
        "\n",
        "def initialize_parameters():\n",
        "    \"\"\"\n",
        "    Initializes weight parameters to build a neural network with tensorflow. The shapes are:\n",
        "                        W1 : [4, 4, 3, 8]\n",
        "                        W2 : [2, 2, 8, 16]\n",
        "    Note that we will hard code the shape values in the function to make the grading simpler.\n",
        "    Normally, functions should take values as inputs rather than hard coding.\n",
        "    Returns:\n",
        "    parameters -- a dictionary of tensors containing W1, W2\n",
        "    \"\"\"\n",
        "    \n",
        "    tf.set_random_seed(1)                              # so that your \"random\" numbers match ours\n",
        "        \n",
        "    ### START CODE HERE ### (approx. 2 lines of code)\n",
        "    W1 = tf.get_variable(\"W1\", [4, 4, 3, 8], initializer = tf.contrib.layers.xavier_initializer(seed = 0))\n",
        "    W2 = tf.get_variable(\"W2\", [2, 2, 8, 16], initializer = tf.contrib.layers.xavier_initializer(seed = 0))\n",
        "    ### END CODE HERE ###\n",
        "\n",
        "    parameters = {\"W1\": W1,\n",
        "                  \"W2\": W2}\n",
        "    \n",
        "    return parameters"
      ],
      "execution_count": 0,
      "outputs": []
    },
    {
      "cell_type": "code",
      "metadata": {
        "id": "gE3VYH07Ld_U",
        "colab_type": "code",
        "outputId": "4d0881b1-95c6-4d7a-bfb4-b607c8e28ca2",
        "colab": {}
      },
      "source": [
        "tf.reset_default_graph()\n",
        "with tf.Session() as sess_test:\n",
        "    parameters = initialize_parameters()\n",
        "    init = tf.global_variables_initializer()\n",
        "    sess_test.run(init)\n",
        "    print(\"W1[1,1,1] = \\n\" + str(parameters[\"W1\"].eval()[1,1,1]))\n",
        "    print(\"W1.shape: \" + str(parameters[\"W1\"].shape))\n",
        "    print(\"\\n\")\n",
        "    print(\"W2[1,1,1] = \\n\" + str(parameters[\"W2\"].eval()[1,1,1]))\n",
        "    print(\"W2.shape: \" + str(parameters[\"W2\"].shape))"
      ],
      "execution_count": 0,
      "outputs": [
        {
          "output_type": "stream",
          "text": [
            "W1[1,1,1] = \n",
            "[ 0.00131723  0.14176141 -0.04434952  0.09197326  0.14984085 -0.03514394\n",
            " -0.06847463  0.05245192]\n",
            "W1.shape: (4, 4, 3, 8)\n",
            "\n",
            "\n",
            "W2[1,1,1] = \n",
            "[-0.08566415  0.17750949  0.11974221  0.16773748 -0.0830943  -0.08058\n",
            " -0.00577033 -0.14643836  0.24162132 -0.05857408 -0.19055021  0.1345228\n",
            " -0.22779644 -0.1601823  -0.16117483 -0.10286498]\n",
            "W2.shape: (2, 2, 8, 16)\n"
          ],
          "name": "stdout"
        }
      ]
    },
    {
      "cell_type": "markdown",
      "metadata": {
        "id": "9aDvuCVXLd_W",
        "colab_type": "text"
      },
      "source": [
        "** Expected Output:**\n",
        "\n",
        "```\n",
        "W1[1,1,1] = \n",
        "[ 0.00131723  0.14176141 -0.04434952  0.09197326  0.14984085 -0.03514394\n",
        " -0.06847463  0.05245192]\n",
        "W1.shape: (4, 4, 3, 8)\n",
        "\n",
        "\n",
        "W2[1,1,1] = \n",
        "[-0.08566415  0.17750949  0.11974221  0.16773748 -0.0830943  -0.08058\n",
        " -0.00577033 -0.14643836  0.24162132 -0.05857408 -0.19055021  0.1345228\n",
        " -0.22779644 -0.1601823  -0.16117483 -0.10286498]\n",
        "W2.shape: (2, 2, 8, 16)\n",
        "```"
      ]
    },
    {
      "cell_type": "markdown",
      "metadata": {
        "id": "fO6tjIBKLd_X",
        "colab_type": "text"
      },
      "source": [
        "### 1.3 - Forward propagation\n",
        "\n",
        "In TensorFlow, there are built-in functions that implement the convolution steps for you.\n",
        "\n",
        "- **tf.nn.conv2d(X,W, strides = [1,s,s,1], padding = 'SAME'):** given an input $X$ and a group of filters $W$, this function convolves $W$'s filters on X. The third parameter ([1,s,s,1]) represents the strides for each dimension of the input (m, n_H_prev, n_W_prev, n_C_prev). Normally, you'll choose a stride of 1 for the number of examples (the first value) and for the channels (the fourth value), which is why we wrote the value as `[1,s,s,1]`. You can read the full documentation on [conv2d](https://www.tensorflow.org/api_docs/python/tf/nn/conv2d).\n",
        "\n",
        "- **tf.nn.max_pool(A, ksize = [1,f,f,1], strides = [1,s,s,1], padding = 'SAME'):** given an input A, this function uses a window of size (f, f) and strides of size (s, s) to carry out max pooling over each window.  For max pooling, we usually operate on a single example at a time and a single channel at a time.  So the first and fourth value in `[1,f,f,1]` are both 1.  You can read the full documentation on [max_pool](https://www.tensorflow.org/api_docs/python/tf/nn/max_pool).\n",
        "\n",
        "- **tf.nn.relu(Z):** computes the elementwise ReLU of Z (which can be any shape). You can read the full documentation on [relu](https://www.tensorflow.org/api_docs/python/tf/nn/relu).\n",
        "\n",
        "- **tf.contrib.layers.flatten(P)**: given a tensor \"P\", this function takes each training (or test) example in the batch and flattens it into a 1D vector.  \n",
        "    * If a tensor P has the shape (m,h,w,c), where m is the number of examples (the batch size), it returns a flattened tensor with shape (batch_size, k), where $k=h \\times w \\times c$.  \"k\" equals the product of all the dimension sizes other than the first dimension.\n",
        "    * For example, given a tensor with dimensions [100,2,3,4], it flattens the tensor to be of shape [100, 24], where 24 = 2 * 3 * 4.  You can read the full documentation on [flatten](https://www.tensorflow.org/api_docs/python/tf/contrib/layers/flatten).\n",
        "\n",
        "- **tf.contrib.layers.fully_connected(F, num_outputs):** given the flattened input F, it returns the output computed using a fully connected layer. You can read the full documentation on [full_connected](https://www.tensorflow.org/api_docs/python/tf/contrib/layers/fully_connected).\n",
        "\n",
        "In the last function above (`tf.contrib.layers.fully_connected`), the fully connected layer automatically initializes weights in the graph and keeps on training them as you train the model. Hence, you did not need to initialize those weights when initializing the parameters.\n",
        "\n",
        "\n",
        "#### Window, kernel, filter\n",
        "The words \"window\", \"kernel\", and \"filter\" are used to refer to the same thing.  This is why the parameter `ksize` refers to \"kernel size\", and we use `(f,f)` to refer to the filter size.  Both \"kernel\" and \"filter\" refer to the \"window.\""
      ]
    },
    {
      "cell_type": "markdown",
      "metadata": {
        "id": "2umRoVE9Ld_Y",
        "colab_type": "text"
      },
      "source": [
        "**Exercise**\n",
        "\n",
        "Implement the `forward_propagation` function below to build the following model: `CONV2D -> RELU -> MAXPOOL -> CONV2D -> RELU -> MAXPOOL -> FLATTEN -> FULLYCONNECTED`. You should use the functions above. \n",
        "\n",
        "In detail, we will use the following parameters for all the steps:\n",
        " - Conv2D: stride 1, padding is \"SAME\"\n",
        " - ReLU\n",
        " - Max pool: Use an 8 by 8 filter size and an 8 by 8 stride, padding is \"SAME\"\n",
        " - Conv2D: stride 1, padding is \"SAME\"\n",
        " - ReLU\n",
        " - Max pool: Use a 4 by 4 filter size and a 4 by 4 stride, padding is \"SAME\"\n",
        " - Flatten the previous output.\n",
        " - FULLYCONNECTED (FC) layer: Apply a fully connected layer without an non-linear activation function. Do not call the softmax here. This will result in 6 neurons in the output layer, which then get passed later to a softmax. In TensorFlow, the softmax and cost function are lumped together into a single function, which you'll call in a different function when computing the cost. "
      ]
    },
    {
      "cell_type": "code",
      "metadata": {
        "id": "oiaLYu2qLd_Z",
        "colab_type": "code",
        "colab": {}
      },
      "source": [
        "# GRADED FUNCTION: forward_propagation\n",
        "\n",
        "def forward_propagation(X, parameters):\n",
        "    \"\"\"\n",
        "    Implements the forward propagation for the model:\n",
        "    CONV2D -> RELU -> MAXPOOL -> CONV2D -> RELU -> MAXPOOL -> FLATTEN -> FULLYCONNECTED\n",
        "    \n",
        "    Note that for simplicity and grading purposes, we'll hard-code some values\n",
        "    such as the stride and kernel (filter) sizes. \n",
        "    Normally, functions should take these values as function parameters.\n",
        "    \n",
        "    Arguments:\n",
        "    X -- input dataset placeholder, of shape (input size, number of examples)\n",
        "    parameters -- python dictionary containing your parameters \"W1\", \"W2\"\n",
        "                  the shapes are given in initialize_parameters\n",
        "\n",
        "    Returns:\n",
        "    Z3 -- the output of the last LINEAR unit\n",
        "    \"\"\"\n",
        "    \n",
        "    # Retrieve the parameters from the dictionary \"parameters\" \n",
        "    W1 = parameters['W1']\n",
        "    W2 = parameters['W2']\n",
        "    \n",
        "    ### START CODE HERE ###\n",
        "    # CONV2D: stride of 1, padding 'SAME'\n",
        "    Z1 = tf.nn.conv2d(X,W1, strides = [1,1,1,1], padding = 'SAME')\n",
        "    # RELU\n",
        "    A1 = tf.nn.relu(Z1)\n",
        "    # MAXPOOL: window 8x8, stride 8, padding 'SAME'\n",
        "    P1 = tf.nn.max_pool(A1, ksize = [1,8,8,1], strides = [1,8,8,1], padding = 'SAME')\n",
        "    # CONV2D: filters W2, stride 1, padding 'SAME'\n",
        "    Z2 = tf.nn.conv2d(P1,W2, strides = [1,1,1,1], padding = 'SAME')\n",
        "    # RELU\n",
        "    A2 = tf.nn.relu(Z2)\n",
        "    # MAXPOOL: window 4x4, stride 4, padding 'SAME'\n",
        "    P2 = tf.nn.max_pool(A2, ksize = [1,4,4,1], strides = [1,4,4,1], padding = 'SAME')\n",
        "    # FLATTEN\n",
        "    F = tf.contrib.layers.flatten(P2)\n",
        "    # FULLY-CONNECTED without non-linear activation function (not not call softmax).\n",
        "    # 6 neurons in output layer. Hint: one of the arguments should be \"activation_fn=None\" \n",
        "    Z3 = tf.contrib.layers.fully_connected(F,activation_fn=None, num_outputs=6)\n",
        "    ### END CODE HERE ###\n",
        "\n",
        "    return Z3"
      ],
      "execution_count": 0,
      "outputs": []
    },
    {
      "cell_type": "code",
      "metadata": {
        "id": "tO71IIqdLd_b",
        "colab_type": "code",
        "outputId": "f80fbefe-f107-4595-d15a-7a5ff49c9fca",
        "colab": {}
      },
      "source": [
        "tf.reset_default_graph()\n",
        "\n",
        "with tf.Session() as sess:\n",
        "    np.random.seed(1)\n",
        "    X, Y = create_placeholders(64, 64, 3, 6)\n",
        "    parameters = initialize_parameters()\n",
        "    Z3 = forward_propagation(X, parameters)\n",
        "    init = tf.global_variables_initializer()\n",
        "    sess.run(init)\n",
        "    a = sess.run(Z3, {X: np.random.randn(2,64,64,3), Y: np.random.randn(2,6)})\n",
        "    print(\"Z3 = \\n\" + str(a))"
      ],
      "execution_count": 0,
      "outputs": [
        {
          "output_type": "stream",
          "text": [
            "Z3 = \n",
            "[[-0.44670227 -1.57208765 -1.53049231 -2.31013036 -1.29104376  0.46852064]\n",
            " [-0.17601591 -1.57972014 -1.4737016  -2.61672091 -1.00810647  0.5747785 ]]\n"
          ],
          "name": "stdout"
        }
      ]
    },
    {
      "cell_type": "markdown",
      "metadata": {
        "id": "c1cugsa3Ld_d",
        "colab_type": "text"
      },
      "source": [
        "**Expected Output**:\n",
        "\n",
        "```\n",
        "Z3 = \n",
        "[[-0.44670227 -1.57208765 -1.53049231 -2.31013036 -1.29104376  0.46852064]\n",
        " [-0.17601591 -1.57972014 -1.4737016  -2.61672091 -1.00810647  0.5747785 ]]\n",
        "```"
      ]
    },
    {
      "cell_type": "markdown",
      "metadata": {
        "id": "yw6K-_urLd_e",
        "colab_type": "text"
      },
      "source": [
        "### 1.4 - Compute cost\n",
        "\n",
        "Implement the compute cost function below. Remember that the cost function helps the neural network see how much the model's predictions differ from the correct labels.  By adjusting the weights of the network to reduce the cost, the neural network can improve its predictions.\n",
        "\n",
        "You might find these two functions helpful: \n",
        "\n",
        "- **tf.nn.softmax_cross_entropy_with_logits(logits = Z, labels = Y):** computes the softmax entropy loss. This function both computes the softmax activation function as well as the resulting loss. You can check the full documentation  [softmax_cross_entropy_with_logits](https://www.tensorflow.org/api_docs/python/tf/nn/softmax_cross_entropy_with_logits).\n",
        "- **tf.reduce_mean:** computes the mean of elements across dimensions of a tensor. Use this to calculate the sum of the losses over all the examples to get the overall cost. You can check the full documentation [reduce_mean](https://www.tensorflow.org/api_docs/python/tf/reduce_mean).\n",
        "\n",
        "#### Details on softmax_cross_entropy_with_logits (optional reading)\n",
        "* Softmax is used to format outputs so that they can be used for classification.  It assigns a value between 0 and 1 for each category, where the sum of all prediction values (across all possible categories) equals 1.\n",
        "* Cross Entropy is compares the model's predicted classifications with the actual labels and results in a numerical value representing the \"loss\" of the model's predictions.\n",
        "* \"Logits\" are the result of multiplying the weights and adding the biases.  Logits are passed through an activation function (such as a relu), and the result is called the \"activation.\"\n",
        "* The function is named `softmax_cross_entropy_with_logits` takes logits as input (and not activations); then uses the model to predict using softmax, and then compares the predictions with the true labels using cross entropy.  These are done with a single function to optimize the calculations.\n",
        "\n",
        "** Exercise**: Compute the cost below using the function above."
      ]
    },
    {
      "cell_type": "code",
      "metadata": {
        "id": "UgD5948tLd_f",
        "colab_type": "code",
        "colab": {}
      },
      "source": [
        "# GRADED FUNCTION: compute_cost \n",
        "\n",
        "def compute_cost(Z3, Y):\n",
        "    \"\"\"\n",
        "    Computes the cost\n",
        "    \n",
        "    Arguments:\n",
        "    Z3 -- output of forward propagation (output of the last LINEAR unit), of shape (number of examples, 6)\n",
        "    Y -- \"true\" labels vector placeholder, same shape as Z3\n",
        "    \n",
        "    Returns:\n",
        "    cost - Tensor of the cost function\n",
        "    \"\"\"\n",
        "    \n",
        "    ### START CODE HERE ### (1 line of code)\n",
        "    cost = tf.reduce_mean(tf.nn.softmax_cross_entropy_with_logits(logits = Z3, labels = Y))\n",
        "    ### END CODE HERE ###\n",
        "    \n",
        "    return cost"
      ],
      "execution_count": 0,
      "outputs": []
    },
    {
      "cell_type": "code",
      "metadata": {
        "id": "NB0gkH7BLd_i",
        "colab_type": "code",
        "outputId": "97a5b71f-1cdd-423b-f495-881d73589c8a",
        "colab": {}
      },
      "source": [
        "tf.reset_default_graph()\n",
        "\n",
        "with tf.Session() as sess:\n",
        "    np.random.seed(1)\n",
        "    X, Y = create_placeholders(64, 64, 3, 6)\n",
        "    parameters = initialize_parameters()\n",
        "    Z3 = forward_propagation(X, parameters)\n",
        "    cost = compute_cost(Z3, Y)\n",
        "    init = tf.global_variables_initializer()\n",
        "    sess.run(init)\n",
        "    a = sess.run(cost, {X: np.random.randn(4,64,64,3), Y: np.random.randn(4,6)})\n",
        "    print(\"cost = \" + str(a))"
      ],
      "execution_count": 0,
      "outputs": [
        {
          "output_type": "stream",
          "text": [
            "cost = 2.91034\n"
          ],
          "name": "stdout"
        }
      ]
    },
    {
      "cell_type": "markdown",
      "metadata": {
        "id": "wFt0cAxWLd_l",
        "colab_type": "text"
      },
      "source": [
        "**Expected Output**: \n",
        "```\n",
        "cost = 2.91034\n",
        "```"
      ]
    },
    {
      "cell_type": "markdown",
      "metadata": {
        "id": "RiTtRq7oLd_l",
        "colab_type": "text"
      },
      "source": [
        "## 1.5 Model \n",
        "\n",
        "Finally you will merge the helper functions you implemented above to build a model. You will train it on the SIGNS dataset. \n",
        "\n",
        "**Exercise**: Complete the function below. \n",
        "\n",
        "The model below should:\n",
        "\n",
        "- create placeholders\n",
        "- initialize parameters\n",
        "- forward propagate\n",
        "- compute the cost\n",
        "- create an optimizer\n",
        "\n",
        "Finally you will create a session and run a for loop  for num_epochs, get the mini-batches, and then for each mini-batch you will optimize the function. [Hint for initializing the variables](https://www.tensorflow.org/api_docs/python/tf/global_variables_initializer)"
      ]
    },
    {
      "cell_type": "markdown",
      "metadata": {
        "id": "yz6R6SfNLd_m",
        "colab_type": "text"
      },
      "source": [
        "#### Adam Optimizer\n",
        "You can use `tf.train.AdamOptimizer(learning_rate = ...)` to create the optimizer.  The optimizer has a `minimize(loss=...)` function that you'll call to set the cost function that the optimizer will minimize.\n",
        "\n",
        "For details, check out the documentation for [Adam Optimizer](https://www.tensorflow.org/api_docs/python/tf/train/AdamOptimizer)"
      ]
    },
    {
      "cell_type": "markdown",
      "metadata": {
        "id": "KNZiGe60Ld_n",
        "colab_type": "text"
      },
      "source": [
        "#### Random mini batches\n",
        "If you took course 2 of the deep learning specialization, you implemented `random_mini_batches()` in the \"Optimization\" programming assignment. This function returns a list of mini-batches. It is already implemented in the `cnn_utils.py` file and imported here, so you can call it like this:\n",
        "```Python\n",
        "minibatches = random_mini_batches(X, Y, mini_batch_size = 64, seed = 0)\n",
        "```\n",
        "(You will want to choose the correct variable names when you use it in your code)."
      ]
    },
    {
      "cell_type": "markdown",
      "metadata": {
        "id": "nxp6Kc9ILd_n",
        "colab_type": "text"
      },
      "source": [
        "#### Evaluating the optimizer and cost\n",
        "\n",
        "Within a loop, for each mini-batch, you'll use the `tf.Session` object (named `sess`) to feed a mini-batch of inputs and labels into the neural network and evaluate the tensors for the optimizer as well as the cost.  Remember that we built a graph data structure and need to feed it inputs and labels and use `sess.run()` in order to get values for the optimizer and cost.\n",
        "\n",
        "You'll use this kind of syntax:\n",
        "```\n",
        "output_for_var1, output_for_var2 = sess.run(\n",
        "                                                fetches=[var1, var2],\n",
        "                                                feed_dict={var_inputs: the_batch_of_inputs,\n",
        "                                                           var_labels: the_batch_of_labels}\n",
        "                                                )\n",
        "```\n",
        "* Notice that `sess.run` takes its first argument `fetches` as a list of objects that you want it to evaluate (in this case, we want to evaluate the optimizer and the cost).  \n",
        "* It also takes a dictionary for the `feed_dict` parameter.  \n",
        "* The keys are the `tf.placeholder` variables that we created in the `create_placeholders` function above.  \n",
        "* The values are the variables holding the actual numpy arrays for each mini-batch.  \n",
        "* The sess.run outputs a tuple of the evaluated tensors, in the same order as the list given to `fetches`. \n",
        "\n",
        "For more information on how to use sess.run, see the documentation [tf.Sesssion#run](https://www.tensorflow.org/api_docs/python/tf/Session#run) documentation."
      ]
    },
    {
      "cell_type": "code",
      "metadata": {
        "id": "gpJFVCbeLd_o",
        "colab_type": "code",
        "colab": {}
      },
      "source": [
        "# GRADED FUNCTION: model\n",
        "\n",
        "def model(X_train, Y_train, X_test, Y_test, learning_rate = 0.009,\n",
        "          num_epochs = 100, minibatch_size = 64, print_cost = True):\n",
        "    \"\"\"\n",
        "    Implements a three-layer ConvNet in Tensorflow:\n",
        "    CONV2D -> RELU -> MAXPOOL -> CONV2D -> RELU -> MAXPOOL -> FLATTEN -> FULLYCONNECTED\n",
        "    \n",
        "    Arguments:\n",
        "    X_train -- training set, of shape (None, 64, 64, 3)\n",
        "    Y_train -- test set, of shape (None, n_y = 6)\n",
        "    X_test -- training set, of shape (None, 64, 64, 3)\n",
        "    Y_test -- test set, of shape (None, n_y = 6)\n",
        "    learning_rate -- learning rate of the optimization\n",
        "    num_epochs -- number of epochs of the optimization loop\n",
        "    minibatch_size -- size of a minibatch\n",
        "    print_cost -- True to print the cost every 100 epochs\n",
        "    \n",
        "    Returns:\n",
        "    train_accuracy -- real number, accuracy on the train set (X_train)\n",
        "    test_accuracy -- real number, testing accuracy on the test set (X_test)\n",
        "    parameters -- parameters learnt by the model. They can then be used to predict.\n",
        "    \"\"\"\n",
        "    \n",
        "    ops.reset_default_graph()                         # to be able to rerun the model without overwriting tf variables\n",
        "    tf.set_random_seed(1)                             # to keep results consistent (tensorflow seed)\n",
        "    seed = 3                                          # to keep results consistent (numpy seed)\n",
        "    (m, n_H0, n_W0, n_C0) = X_train.shape             \n",
        "    n_y = Y_train.shape[1]                            \n",
        "    costs = []                                        # To keep track of the cost\n",
        "    \n",
        "    # Create Placeholders of the correct shape\n",
        "    ### START CODE HERE ### (1 line)\n",
        "    X, Y = tf.placeholder(tf.float32,shape=[None, 64, 64, 3]),tf.placeholder(tf.float32,shape=[None, n_y])\n",
        "    ### END CODE HERE ###\n",
        "\n",
        "    # Initialize parameters\n",
        "    ### START CODE HERE ### (1 line)\n",
        "    parameters = initialize_parameters()\n",
        "    ### END CODE HERE ###\n",
        "    \n",
        "    # Forward propagation: Build the forward propagation in the tensorflow graph\n",
        "    ### START CODE HERE ### (1 line)\n",
        "    Z3 = forward_propagation(X,parameters)\n",
        "    ### END CODE HERE ###\n",
        "    \n",
        "    # Cost function: Add cost function to tensorflow graph\n",
        "    ### START CODE HERE ### (1 line)\n",
        "    cost = compute_cost(Z3,Y)\n",
        "    ### END CODE HERE ###\n",
        "    \n",
        "    # Backpropagation: Define the tensorflow optimizer. Use an AdamOptimizer that minimizes the cost.\n",
        "    ### START CODE HERE ### (1 line)\n",
        "    optimizer = tf.train.AdamOptimizer(learning_rate = learning_rate).minimize(cost)\n",
        "    ### END CODE HERE ###\n",
        "    \n",
        "    # Initialize all the variables globally\n",
        "    init = tf.global_variables_initializer()\n",
        "     \n",
        "    # Start the session to compute the tensorflow graph\n",
        "    with tf.Session() as sess:\n",
        "        \n",
        "        # Run the initialization\n",
        "        sess.run(init)\n",
        "        \n",
        "        # Do the training loop\n",
        "        for epoch in range(num_epochs):\n",
        "\n",
        "            minibatch_cost = 0.\n",
        "            num_minibatches = int(m / minibatch_size) # number of minibatches of size minibatch_size in the train set\n",
        "            seed = seed + 1\n",
        "            minibatches = random_mini_batches(X_train, Y_train, minibatch_size, seed)\n",
        "\n",
        "            for minibatch in minibatches:\n",
        "\n",
        "                # Select a minibatch\n",
        "                (minibatch_X, minibatch_Y) = minibatch\n",
        "                \"\"\"\n",
        "                # IMPORTANT: The line that runs the graph on a minibatch.\n",
        "                # Run the session to execute the optimizer and the cost.\n",
        "                # The feedict should contain a minibatch for (X,Y).\n",
        "                \"\"\"\n",
        "                ### START CODE HERE ### (1 line)\n",
        "                _ , temp_cost = sess.run([optimizer,cost],feed_dict={X:minibatch_X,Y:minibatch_Y})\n",
        "                ### END CODE HERE ###\n",
        "                \n",
        "                minibatch_cost += temp_cost / num_minibatches\n",
        "                \n",
        "\n",
        "            # Print the cost every epoch\n",
        "            if print_cost == True and epoch % 5 == 0:\n",
        "                print (\"Cost after epoch %i: %f\" % (epoch, minibatch_cost))\n",
        "            if print_cost == True and epoch % 1 == 0:\n",
        "                costs.append(minibatch_cost)\n",
        "        \n",
        "        \n",
        "        # plot the cost\n",
        "        plt.plot(np.squeeze(costs))\n",
        "        plt.ylabel('cost')\n",
        "        plt.xlabel('iterations (per tens)')\n",
        "        plt.title(\"Learning rate =\" + str(learning_rate))\n",
        "        plt.show()\n",
        "\n",
        "        # Calculate the correct predictions\n",
        "        predict_op = tf.argmax(Z3, 1)\n",
        "        correct_prediction = tf.equal(predict_op, tf.argmax(Y, 1))\n",
        "        \n",
        "        # Calculate accuracy on the test set\n",
        "        accuracy = tf.reduce_mean(tf.cast(correct_prediction, \"float\"))\n",
        "        print(accuracy)\n",
        "        train_accuracy = accuracy.eval({X: X_train, Y: Y_train})\n",
        "        test_accuracy = accuracy.eval({X: X_test, Y: Y_test})\n",
        "        print(\"Train Accuracy:\", train_accuracy)\n",
        "        print(\"Test Accuracy:\", test_accuracy)\n",
        "                \n",
        "        return train_accuracy, test_accuracy, parameters"
      ],
      "execution_count": 0,
      "outputs": []
    },
    {
      "cell_type": "markdown",
      "metadata": {
        "id": "7tU_wsjhLd_q",
        "colab_type": "text"
      },
      "source": [
        "Run the following cell to train your model for 100 epochs. Check if your cost after epoch 0 and 5 matches our output. If not, stop the cell and go back to your code!"
      ]
    },
    {
      "cell_type": "code",
      "metadata": {
        "id": "phnC0m59Ld_r",
        "colab_type": "code",
        "outputId": "9904ffbc-30d0-49b9-a30d-6ac416e5dd23",
        "colab": {}
      },
      "source": [
        "_, _, parameters = model(X_train, Y_train, X_test, Y_test)"
      ],
      "execution_count": 0,
      "outputs": [
        {
          "output_type": "stream",
          "text": [
            "Cost after epoch 0: 1.917929\n",
            "Cost after epoch 5: 1.506757\n",
            "Cost after epoch 10: 0.955359\n",
            "Cost after epoch 15: 0.845802\n",
            "Cost after epoch 20: 0.701174\n",
            "Cost after epoch 25: 0.571977\n",
            "Cost after epoch 30: 0.518435\n",
            "Cost after epoch 35: 0.495806\n",
            "Cost after epoch 40: 0.429827\n",
            "Cost after epoch 45: 0.407291\n",
            "Cost after epoch 50: 0.366394\n",
            "Cost after epoch 55: 0.376922\n",
            "Cost after epoch 60: 0.299491\n",
            "Cost after epoch 65: 0.338870\n",
            "Cost after epoch 70: 0.316400\n",
            "Cost after epoch 75: 0.310413\n",
            "Cost after epoch 80: 0.249549\n",
            "Cost after epoch 85: 0.243457\n",
            "Cost after epoch 90: 0.200031\n",
            "Cost after epoch 95: 0.175452\n"
          ],
          "name": "stdout"
        },
        {
          "output_type": "display_data",
          "data": {
            "image/png": "[encoded data removed]",
            "text/plain": [
              "<matplotlib.figure.Figure at 0x7fde0b6c3278>"
            ]
          },
          "metadata": {
            "tags": []
          }
        },
        {
          "output_type": "stream",
          "text": [
            "Tensor(\"Mean_1:0\", shape=(), dtype=float32)\n",
            "Train Accuracy: 0.940741\n",
            "Test Accuracy: 0.783333\n"
          ],
          "name": "stdout"
        }
      ]
    },
    {
      "cell_type": "markdown",
      "metadata": {
        "id": "37LGQDLaLd_v",
        "colab_type": "text"
      },
      "source": [
        "**Expected output**: although it may not match perfectly, your expected output should be close to ours and your cost value should decrease.\n",
        "\n",
        "<table> \n",
        "<tr>\n",
        "    <td> \n",
        "    **Cost after epoch 0 =**\n",
        "    </td>\n",
        "\n",
        "    <td> \n",
        "      1.917929\n",
        "    </td> \n",
        "</tr>\n",
        "<tr>\n",
        "    <td> \n",
        "    **Cost after epoch 5 =**\n",
        "    </td>\n",
        "\n",
        "    <td> \n",
        "      1.506757\n",
        "    </td> \n",
        "</tr>\n",
        "<tr>\n",
        "    <td> \n",
        "    **Train Accuracy   =**\n",
        "    </td>\n",
        "\n",
        "    <td> \n",
        "      0.940741\n",
        "    </td> \n",
        "</tr> \n",
        "\n",
        "<tr>\n",
        "    <td> \n",
        "    **Test Accuracy   =**\n",
        "    </td>\n",
        "\n",
        "    <td> \n",
        "      0.783333\n",
        "    </td> \n",
        "</tr> \n",
        "</table>"
      ]
    },
    {
      "cell_type": "markdown",
      "metadata": {
        "id": "LUeQJCuuLd_y",
        "colab_type": "text"
      },
      "source": [
        "Congratulations! You have finished the assignment and built a model that recognizes SIGN language with almost 80% accuracy on the test set. If you wish, feel free to play around with this dataset further. You can actually improve its accuracy by spending more time tuning the hyperparameters, or using regularization (as this model clearly has a high variance). \n",
        "\n",
        "Once again, here's a thumbs up for your work! "
      ]
    },
    {
      "cell_type": "code",
      "metadata": {
        "id": "PF92cd1rLd_z",
        "colab_type": "code",
        "outputId": "3dcd0dfb-1bf6-4802-c8d4-0c476a214742",
        "colab": {}
      },
      "source": [
        "fname = \"images/thumbs_up.jpg\"\n",
        "image = np.array(ndimage.imread(fname, flatten=False))\n",
        "my_image = scipy.misc.imresize(image, size=(64,64))\n",
        "plt.imshow(my_image)"
      ],
      "execution_count": 0,
      "outputs": [
        {
          "output_type": "execute_result",
          "data": {
            "text/plain": [
              "<matplotlib.image.AxesImage at 0x7fddbdd04cc0>"
            ]
          },
          "metadata": {
            "tags": []
          },
          "execution_count": 63
        },
        {
          "output_type": "display_data",
          "data": {
            "image/png": "[encoded data removed]",
            "text/plain": [
              "<matplotlib.figure.Figure at 0x7fde05973390>"
            ]
          },
          "metadata": {
            "tags": []
          }
        }
      ]
    },
    {
      "cell_type": "code",
      "metadata": {
        "id": "eMhIsRqaLd_3",
        "colab_type": "code",
        "colab": {}
      },
      "source": [
        ""
      ],
      "execution_count": 0,
      "outputs": []
    }
  ]
}
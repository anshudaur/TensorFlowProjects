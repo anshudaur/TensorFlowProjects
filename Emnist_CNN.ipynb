{
  "nbformat": 4,
  "nbformat_minor": 0,
  "metadata": {
    "colab": {
      "name": "Emnist_CNN.ipynb",
      "provenance": [],
      "collapsed_sections": [],
      "machine_shape": "hm",
      "include_colab_link": true
    },
    "kernelspec": {
      "name": "python3",
      "display_name": "Python 3"
    },
    "accelerator": "GPU"
  },
  "cells": [
    {
      "cell_type": "markdown",
      "metadata": {
        "id": "view-in-github",
        "colab_type": "text"
      },
      "source": [
        "<a href=\"https://colab.research.google.com/github/anshudaur/TensorFlowProjects/blob/master/Emnist_CNN.ipynb\" target=\"_parent\"><img src=\"https://colab.research.google.com/assets/colab-badge.svg\" alt=\"Open In Colab\"/></a>"
      ]
    },
    {
      "cell_type": "code",
      "metadata": {
        "id": "DA7aQIdBx64U",
        "colab_type": "code",
        "colab": {
          "base_uri": "https://localhost:8080/",
          "height": 323
        },
        "outputId": "924b4ea7-d256-4626-f260-ea29079fee58"
      },
      "source": [
        "# Check if already downloaded\n",
        "check = !if [ -d 'dataset/' ]; then echo \"1\" ; else echo \"0\"; fi\n",
        "if (check[0] is '0' ):\n",
        "  !mkdir dataset\n",
        "  !wget 'https://www.itl.nist.gov/iaui/vip/cs_links/EMNIST/matlab.zip'\n",
        "  !unzip matlab.zip -d /content/dataset"
      ],
      "execution_count": 2,
      "outputs": [
        {
          "output_type": "stream",
          "text": [
            "--2019-10-14 07:28:59--  https://www.itl.nist.gov/iaui/vip/cs_links/EMNIST/matlab.zip\n",
            "Resolving www.itl.nist.gov (www.itl.nist.gov)... 132.163.4.36, 2610:20:6b01:4::36\n",
            "Connecting to www.itl.nist.gov (www.itl.nist.gov)|132.163.4.36|:443... connected.\n",
            "HTTP request sent, awaiting response... 200 OK\n",
            "Length: 743900280 (709M) [application/zip]\n",
            "Saving to: ‘matlab.zip’\n",
            "\n",
            "matlab.zip          100%[===================>] 709.44M  91.4MB/s    in 8.4s    \n",
            "\n",
            "2019-10-14 07:29:08 (84.4 MB/s) - ‘matlab.zip’ saved [743900280/743900280]\n",
            "\n",
            "Archive:  matlab.zip\n",
            "  inflating: /content/dataset/matlab/emnist-balanced.mat  \n",
            "  inflating: /content/dataset/matlab/emnist-byclass.mat  \n",
            "  inflating: /content/dataset/matlab/emnist-bymerge.mat  \n",
            "  inflating: /content/dataset/matlab/emnist-digits.mat  \n",
            "  inflating: /content/dataset/matlab/emnist-letters.mat  \n",
            "  inflating: /content/dataset/matlab/emnist-mnist.mat  \n"
          ],
          "name": "stdout"
        }
      ]
    },
    {
      "cell_type": "markdown",
      "metadata": {
        "id": "OmxJ_VtxZpeh",
        "colab_type": "text"
      },
      "source": [
        "**Load Dataset by Class**"
      ]
    },
    {
      "cell_type": "code",
      "metadata": {
        "id": "Lny_1yS_zWuf",
        "colab_type": "code",
        "outputId": "db7a38cd-8b70-4256-e6b8-fe2ef443be47",
        "colab": {
          "base_uri": "https://localhost:8080/",
          "height": 439
        }
      },
      "source": [
        "import os                    # Load os\n",
        "import tensorflow as tf\n",
        "from tensorflow.keras.models import Sequential\n",
        "from tensorflow.keras.layers import Dense, Dropout, Activation, Flatten, Conv2D, MaxPooling2D\n",
        "import scipy\n",
        "#from scipy import io as spio\n",
        "\n",
        "import numpy as np\n",
        "%matplotlib inline\n",
        "\n",
        "#!wget https://drive.google.com/open?id=1rBdVtgosojt33qzTKBYt2h5m-peP3B7L\n",
        "\n",
        "# Check if GPU is available\n",
        "import tensorflow as tf\n",
        "device_name = tf.test.gpu_device_name()\n",
        "if device_name != '/device:GPU:0':\n",
        "  raise SystemError('GPU device not found, to activate the GPU go to menu \"Runtime\" and submenu \"Change runtime type\", then change hardware accelerator from None to GPU.')\n",
        "print('Found GPU at: {}'.format(device_name))\n",
        "\n",
        "#emnist = spio.loadmat(\"/content/dataset/matlab/emnist-byclass.mat\")\n",
        "emnist = scipy.io.loadmat(\"/content/emnist-byclass.mat\")\n",
        "\n",
        "# load training dataset\n",
        "x_train = emnist[\"dataset\"][0][0][0][0][0][0]\n",
        "x_train = x_train.astype(np.float32)\n",
        "\n",
        "# load training labels\n",
        "y_train = emnist[\"dataset\"][0][0][0][0][0][1]\n",
        "\n",
        "# load test dataset\n",
        "x_test = emnist[\"dataset\"][0][0][1][0][0][0]\n",
        "x_test = x_test.astype(np.float32)\n",
        "\n",
        "# load test labels\n",
        "y_test = emnist[\"dataset\"][0][0][1][0][0][1]\n",
        "\n",
        "# store labels for visualization\n",
        "train_labels = y_train\n",
        "test_labels = y_test\n",
        "\n",
        "print (x_train.shape)\n",
        "print (y_train.shape)\n",
        "\n",
        "# Preprocess input data, reshape using matlab order ?\n",
        "x_train = x_train.reshape(x_train.shape[0], 28, 28, 1, order=\"A\")\n",
        "x_test = x_test.reshape(x_test.shape[0], 28, 28, 1, order=\"A\")\n",
        "\n",
        "## normalized to 16 colours instead of 255\n",
        "numberofcolors = 16\n",
        "colors = 255//(numberofcolors-1)\n",
        "x_train /= colors\n",
        "x_test /= colors\n",
        "\n",
        "x_train.shape\n",
        "\n",
        "from keras.utils import np_utils\n",
        "\n",
        "# Preprocess class labels\n",
        "## EMNIST ByClass: 814,255 characters. 62 unbalanced classes.\n",
        "## Convert 1-dimensional class arrays to 62-dimensional class matrices\n",
        "class_idx = ['0','1','2','3','4','5','6','7','8','9',\n",
        "             'A','B','C','D','E','F','G','H','I','J','K','L','M','N','O','P','Q','R','S','T','U','V','W','X','Y','Z',\n",
        "             'a','b','c','d','e','f','g','h','i','j','k','l','m','n','o','p','q','r','s','t','u','v','w','x','y','z']\n",
        "number_classes = 62\n",
        "# retun binary representation(One hhot encoded vector) of integer matrix \n",
        "y_train = np_utils.to_categorical(y_train, number_classes )\n",
        "y_test = np_utils.to_categorical(y_test,  number_classes )\n",
        "\n",
        "print (y_train.shape)\n",
        "print (y_test.shape)\n",
        "samplenum = 12000 #label 5\n",
        "import matplotlib.pyplot as plt\n",
        "img = x_train[samplenum]\n",
        "print(y_train[samplenum])\n",
        "# visualize image\n",
        "plt.imshow(img[:,:,0], cmap='gray')\n",
        "\n",
        "# show label for sample image\n",
        "index = train_labels[samplenum][0]\n",
        "\n",
        "class_idx[ index ]\n",
        "\n",
        "print ( test_labels.shape )\n",
        "reshape = str(test_labels.shape).split(',')\n",
        "reshape = int(reshape[0][1:])\n",
        "test_labels = test_labels.reshape( reshape )\n",
        "test_labels.shape"
      ],
      "execution_count": 7,
      "outputs": [
        {
          "output_type": "stream",
          "text": [
            "Found GPU at: /device:GPU:0\n",
            "(697932, 784)\n",
            "(697932, 1)\n",
            "(697932, 62)\n",
            "(116323, 62)\n",
            "[0. 0. 0. 0. 0. 1. 0. 0. 0. 0. 0. 0. 0. 0. 0. 0. 0. 0. 0. 0. 0. 0. 0. 0.\n",
            " 0. 0. 0. 0. 0. 0. 0. 0. 0. 0. 0. 0. 0. 0. 0. 0. 0. 0. 0. 0. 0. 0. 0. 0.\n",
            " 0. 0. 0. 0. 0. 0. 0. 0. 0. 0. 0. 0. 0. 0.]\n",
            "(116323, 1)\n"
          ],
          "name": "stdout"
        },
        {
          "output_type": "execute_result",
          "data": {
            "text/plain": [
              "(116323,)"
            ]
          },
          "metadata": {
            "tags": []
          },
          "execution_count": 7
        },
        {
          "output_type": "display_data",
          "data": {
            "image/png": "[encoded data removed]",
            "text/plain": [
              "<Figure size 432x288 with 1 Axes>"
            ]
          },
          "metadata": {
            "tags": []
          }
        }
      ]
    },
    {
      "cell_type": "markdown",
      "metadata": {
        "id": "eacP-s3AbZ73",
        "colab_type": "text"
      },
      "source": [
        "**generate augmented images**\n",
        "\n",
        "1. ImageDataGenerator : Accepts original data, randomly transforms it and returns only the transformed data . Performs On-the-Fly data augmentation"
      ]
    },
    {
      "cell_type": "code",
      "metadata": {
        "id": "1YJyC4ttbaVW",
        "colab_type": "code",
        "colab": {
          "base_uri": "https://localhost:8080/",
          "height": 374
        },
        "outputId": "3358b2e0-c9d6-4fae-9594-1db50e6d7f7a"
      },
      "source": [
        "batch_size = 512\n",
        "from keras.preprocessing.image import ImageDataGenerator\n",
        "\n",
        "gen = ImageDataGenerator(rotation_range=12, width_shift_range=0.1, shear_range=0.3,\n",
        "                        height_shift_range=0.1, zoom_range=0.1, data_format='channels_last')\n",
        "\n",
        "train_batches = gen.flow(x_train, y_train, batch_size=batch_size)\n",
        "test_batches = gen.flow(x_test, y_test, batch_size=batch_size)\n",
        "steps_per_epoch = int(np.ceil(train_batches.n/batch_size))\n",
        "validation_steps = int(np.ceil(test_batches.n/batch_size))\n",
        "\n",
        "import matplotlib.pyplot as plt\n",
        "\n",
        "# load ONE image from training set to display on screen\n",
        "img = x_train[0] #image shape = (28,28,1)\n",
        "#print(img.shape)\n",
        "# visualize original image\n",
        "plt.imshow(img[:,:,0], cmap='gray')\n",
        "# trick our generator into believing img has enough dimensions\n",
        "# and get some augmented images for our single test image\n",
        "img = np.expand_dims(img, axis=0) # image shape = (1, 28, 28, 1)\n",
        "#print(img.shape)\n",
        "aug_iter = gen.flow(img)\n",
        "aug_img = next(aug_iter)[0].astype(np.float32)  #aug_img shape is (28,28,1)\n",
        "#print(aug_img[:,:,0].shape)\n",
        "\n",
        "import matplotlib.pyplot as plt\n",
        "\n",
        "# show augmented images\n",
        "f = plt.figure(figsize=(12,6))\n",
        "for i in range(8): # generate 8 augmented images\n",
        "    sp = f.add_subplot(2, 26//3, i+1)\n",
        "    sp.axis('Off')\n",
        "    aug_img = next(aug_iter)[0].astype(np.float32)\n",
        "    #aug_img[:,:,0] shape : (28, 28)\n",
        "    plt.imshow(aug_img[:,:,0], cmap='gray')                 \n",
        "    # images are stored as (img_size, image_size, channel)  to print call img [;,;,0]\n"
      ],
      "execution_count": 29,
      "outputs": [
        {
          "output_type": "display_data",
          "data": {
            "image/png": "[encoded data removed]",
            "text/plain": [
              "<Figure size 432x288 with 1 Axes>"
            ]
          },
          "metadata": {
            "tags": []
          }
        },
        {
          "output_type": "display_data",
          "data": {
            "image/png": "[encoded data removed]",
            "text/plain": [
              "<Figure size 864x432 with 8 Axes>"
            ]
          },
          "metadata": {
            "tags": []
          }
        }
      ]
    },
    {
      "cell_type": "markdown",
      "metadata": {
        "id": "96MuGzjUZnrL",
        "colab_type": "text"
      },
      "source": [
        "**Build Model**"
      ]
    },
    {
      "cell_type": "code",
      "metadata": {
        "id": "na0eMfjeZJZO",
        "colab_type": "code",
        "colab": {}
      },
      "source": [
        "import os                    # Load os\n",
        "import tensorflow as tf\n",
        "from tensorflow.keras.models import Sequential\n",
        "from tensorflow.keras.layers import Dense, Dropout, Activation, Flatten, Conv2D, MaxPooling2D\n",
        "\n",
        "# x_train :(697932, 28, 28, 1)\n",
        "# y_train : 697932\n",
        "# Architecture model \n",
        "\n",
        "#  Input Vector :  784 pixels (28x28)\n",
        "#  Layer 1      :  128 nodes\n",
        "#  Layer 2      :  128 nodes\n",
        "#  Output Layer :  62 categories\n",
        "\n",
        "ly1_neurons = 128\n",
        "ly2_neurons = 128\n",
        "categories = 62\n",
        "\n",
        "# Define model architecture\n",
        "model = Sequential()\n",
        "\n",
        "## Input: 28x28 images with 1 channel -> (28, 28, 1) tensors.\n",
        "\n",
        "## First layer\n",
        "# adds 128 neurons with 3x3 window size\n",
        "model.add(Conv2D(ly1_neurons, (3,3), input_shape = x_train.shape[1:]))\n",
        "# Activatior layer = relu (rectified linear regresion)    \n",
        "model.add(Activation(\"relu\"))                                             \n",
        "model.add(MaxPooling2D(pool_size=(2,2)))\n",
        "model.add(Dropout(0.2))\n",
        "\n",
        "## Second layer\n",
        " # adds 128 neurons with 3x3 window size\n",
        "model.add(Conv2D(ly2_neurons, (3,3))) \n",
        " # Activatior layer = relu (rectified linear regresion)                                   \n",
        "model.add(Activation(\"relu\"))                                            \n",
        "model.add(MaxPooling2D(pool_size=(2,2)))\n",
        "model.add(Dropout(0.2))\n",
        "\n",
        "## Third layer\n",
        "model.add(Flatten())\n",
        " # to clasify in 62 classes\n",
        "model.add(Dense( categories )) \n",
        " # Activatior layer = sigmoid                                          \n",
        "model.add(Activation('sigmoid'))                          \n",
        "\n",
        "# Compile model\n",
        "model.compile(loss='categorical_crossentropy',\n",
        "            optimizer='adam',\n",
        "            metrics=['accuracy'])\n",
        "\n"
      ],
      "execution_count": 0,
      "outputs": []
    },
    {
      "cell_type": "markdown",
      "metadata": {
        "id": "EhKuSW6umtfp",
        "colab_type": "text"
      },
      "source": [
        "**Train** **Model**"
      ]
    },
    {
      "cell_type": "code",
      "metadata": {
        "id": "3BfUX67NmvQu",
        "colab_type": "code",
        "colab": {
          "base_uri": "https://localhost:8080/",
          "height": 411
        },
        "outputId": "329df1d4-465c-4e66-ecdb-4e850853c3c1"
      },
      "source": [
        "#  Log to be reviewed with tensorboard for visualiztions\n",
        "import time\n",
        "from tensorflow.keras.callbacks import TensorBoard\n",
        "\n",
        "#Define log name\n",
        "log_name = 'EMNIST byClass-cnn-'+str (ly1_neurons) +'x'+ str(ly2_neurons)+'-{}'.format(int(time.time()))\n",
        "tensorboard = TensorBoard(log_dir='logs/{}'.format(log_name))\n",
        "!mkdir /content/logs\n",
        "\n",
        "batch_size = 128\n",
        "epochs = 10\n",
        "\n",
        "# Fit model on training data \n",
        "history = model.fit(x_train, y_train\n",
        "              , batch_size\n",
        "              , epochs\n",
        "              , verbose=1\n",
        "              , callbacks = [tensorboard]\n",
        "              , validation_data=(x_test, y_test)\n",
        "             )"
      ],
      "execution_count": 31,
      "outputs": [
        {
          "output_type": "stream",
          "text": [
            "mkdir: cannot create directory ‘/content/logs’: File exists\n",
            "Train on 697932 samples, validate on 116323 samples\n",
            "Epoch 1/10\n",
            "697932/697932 [==============================] - 157s 225us/sample - loss: 0.5236 - acc: 0.8249 - val_loss: 0.4128 - val_acc: 0.8551\n",
            "Epoch 2/10\n",
            "697932/697932 [==============================] - 156s 224us/sample - loss: 0.4169 - acc: 0.8525 - val_loss: 0.3926 - val_acc: 0.8595\n",
            "Epoch 3/10\n",
            "697932/697932 [==============================] - 156s 223us/sample - loss: 0.3950 - acc: 0.8582 - val_loss: 0.3833 - val_acc: 0.8628\n",
            "Epoch 4/10\n",
            "697932/697932 [==============================] - 156s 224us/sample - loss: 0.3838 - acc: 0.8615 - val_loss: 0.3787 - val_acc: 0.8655\n",
            "Epoch 5/10\n",
            "697932/697932 [==============================] - 156s 224us/sample - loss: 1.5989 - acc: 0.5981 - val_loss: 4.1271 - val_acc: 0.0497\n",
            "Epoch 6/10\n",
            "697932/697932 [==============================] - 156s 223us/sample - loss: 4.1271 - acc: 0.0496 - val_loss: 4.1271 - val_acc: 0.0497\n",
            "Epoch 7/10\n",
            "697932/697932 [==============================] - 156s 223us/sample - loss: 4.1271 - acc: 0.0496 - val_loss: 4.1271 - val_acc: 0.0497\n",
            "Epoch 8/10\n",
            "697932/697932 [==============================] - 156s 223us/sample - loss: 4.1271 - acc: 0.0496 - val_loss: 4.1271 - val_acc: 0.0497\n",
            "Epoch 9/10\n",
            "697932/697932 [==============================] - 157s 226us/sample - loss: 4.1271 - acc: 0.0496 - val_loss: 4.1271 - val_acc: 0.0497\n",
            "Epoch 10/10\n",
            "697932/697932 [==============================] - 157s 226us/sample - loss: 4.1271 - acc: 0.0496 - val_loss: 4.1271 - val_acc: 0.0497\n"
          ],
          "name": "stdout"
        }
      ]
    },
    {
      "cell_type": "markdown",
      "metadata": {
        "id": "DTsZsxwDw5vG",
        "colab_type": "text"
      },
      "source": [
        ""
      ]
    },
    {
      "cell_type": "markdown",
      "metadata": {
        "id": "-ukDOeAvp2YM",
        "colab_type": "text"
      },
      "source": [
        "**Evaluate Final Accuracy**"
      ]
    },
    {
      "cell_type": "code",
      "metadata": {
        "id": "vkEhHCxWpjaM",
        "colab_type": "code",
        "colab": {
          "base_uri": "https://localhost:8080/",
          "height": 51
        },
        "outputId": "541bae93-b054-4213-8ff0-5adeacbb35c8"
      },
      "source": [
        "# Evaluate model on test data\n",
        "loss, accuracy = model.evaluate(x_test, y_test, verbose=0)\n",
        "print ('Test loss ', loss )\n",
        "print ('Test accuracy ', accuracy )"
      ],
      "execution_count": 32,
      "outputs": [
        {
          "output_type": "stream",
          "text": [
            "Test loss  4.1270988431692635\n",
            "Test accuracy  0.049672034\n"
          ],
          "name": "stdout"
        }
      ]
    },
    {
      "cell_type": "markdown",
      "metadata": {
        "id": "AHxjwvY7pwtx",
        "colab_type": "text"
      },
      "source": [
        "**Save** **Model**"
      ]
    },
    {
      "cell_type": "code",
      "metadata": {
        "id": "yl8OrG9ps89p",
        "colab_type": "code",
        "colab": {
          "base_uri": "https://localhost:8080/",
          "height": 34
        },
        "outputId": "dfb82919-fafa-4f92-9dee-5c318ea5e1b3"
      },
      "source": [
        "save_dir = '/content/'\n",
        "model_name = 'model - '+str (ly1_neurons) +'x'+ str(ly2_neurons)+' bs:' + str(batch_size) +' ep:'+ str(epochs) +' acc:'+ str(round(accuracy, 3)) +' loss:' + str(round(loss, 3)) +' .h5'\n",
        "\n",
        "model_path = os.path.join(save_dir, model_name)\n",
        "model.save( model_path )\n",
        "print ('Saved trained model at ' + model_path )"
      ],
      "execution_count": 33,
      "outputs": [
        {
          "output_type": "stream",
          "text": [
            "Saved trained model at /content/model - 128x128 bs:128 ep:10 acc:0.05 loss:4.127 .h5\n"
          ],
          "name": "stdout"
        }
      ]
    },
    {
      "cell_type": "markdown",
      "metadata": {
        "id": "JmOoOaB2wAjR",
        "colab_type": "text"
      },
      "source": [
        "**Predict Image**"
      ]
    },
    {
      "cell_type": "code",
      "metadata": {
        "id": "h6TajAdNwDIg",
        "colab_type": "code",
        "colab": {
          "base_uri": "https://localhost:8080/",
          "height": 298
        },
        "outputId": "289bf44c-e07c-419d-f5b4-954ff72da30d"
      },
      "source": [
        "import random\n",
        "image_index = random.randint(1,len(x_test))\n",
        "\n",
        "image = x_test[image_index] # show label for sample image\n",
        "plt.imshow(image[:,:,0], cmap='gray', interpolation='none')\n",
        "\n",
        "image = np.expand_dims(image, axis=0)\n",
        "scores = model.predict(image)\n",
        "\n",
        "index = np.argmax(scores)\n",
        "plt.title(\"Letter: \" + str( class_idx[ index ] ))"
      ],
      "execution_count": 48,
      "outputs": [
        {
          "output_type": "execute_result",
          "data": {
            "text/plain": [
              "Text(0.5, 1.0, 'Letter: y')"
            ]
          },
          "metadata": {
            "tags": []
          },
          "execution_count": 48
        },
        {
          "output_type": "display_data",
          "data": {
            "image/png": "[encoded data removed]",
            "text/plain": [
              "<Figure size 432x288 with 1 Axes>"
            ]
          },
          "metadata": {
            "tags": []
          }
        }
      ]
    },
    {
      "cell_type": "markdown",
      "metadata": {
        "id": "j2_ID-UVw8Px",
        "colab_type": "text"
      },
      "source": [
        "**Plot Training History**"
      ]
    },
    {
      "cell_type": "code",
      "metadata": {
        "id": "xw8ysnIxw-9q",
        "colab_type": "code",
        "colab": {
          "base_uri": "https://localhost:8080/",
          "height": 297
        },
        "outputId": "827e5274-ceef-4984-a86a-ac4b1f03c446"
      },
      "source": [
        "# plotting the metrics\n",
        "fig = plt.figure()\n",
        "plt.subplot(2,1,1)\n",
        "plt.plot(history.history['acc'])\n",
        "plt.plot(history.history['val_acc'])\n",
        "plt.title('model accuracy')\n",
        "plt.ylabel('accuracy')\n",
        "plt.xlabel('epoch')\n",
        "plt.legend(['train', 'test'], loc='lower right')\n",
        "\n",
        "plt.subplot(2,1,2)\n",
        "plt.plot(history.history['loss'])\n",
        "plt.plot(history.history['val_loss'])\n",
        "plt.title('model loss')\n",
        "plt.ylabel('loss')\n",
        "plt.xlabel('epoch')\n",
        "plt.legend(['train', 'test'], loc='upper right')\n",
        "\n",
        "plt.tight_layout()"
      ],
      "execution_count": 49,
      "outputs": [
        {
          "output_type": "display_data",
          "data": {
            "image/png": "[encoded data removed]",
            "text/plain": [
              "<Figure size 432x288 with 2 Axes>"
            ]
          },
          "metadata": {
            "tags": []
          }
        }
      ]
    },
    {
      "cell_type": "markdown",
      "metadata": {
        "id": "yy0J19iL3EOX",
        "colab_type": "text"
      },
      "source": [
        "  **\n",
        "\n",
        "1.   Model Evaluation\n",
        "2.   Visualize Correct Predictions\n",
        "3.   Visualize Incorrect Predictions\n",
        "\n",
        "**"
      ]
    },
    {
      "cell_type": "code",
      "metadata": {
        "id": "MENRVIqK3JQO",
        "colab_type": "code",
        "colab": {
          "base_uri": "https://localhost:8080/",
          "height": 1000
        },
        "outputId": "297017a9-cde5-4f65-bddd-fb38e0e36cbd"
      },
      "source": [
        "# load the model and create predictions on the test set\n",
        "# model = load_model( model_name )\n",
        "predicted_classes = model.predict_classes(x_test)\n",
        "\n",
        "# see which we predicted correctly and which not\n",
        "correct_indices = np.nonzero(predicted_classes == test_labels)[0]\n",
        "incorrect_indices = np.nonzero(predicted_classes != test_labels)[0]\n",
        "print()\n",
        "print(len(correct_indices),\" classified correctly\")\n",
        "print(len(incorrect_indices),\" classified incorrectly\")\n",
        "\n",
        "\n",
        "fig = plt.figure(figsize=(12,6))\n",
        "for i, correct in enumerate(correct_indices[:12]):\n",
        "  rows = 2\n",
        "  columns = 12\n",
        "  sp = fig.add_subplot( rows, columns , i+1)                 # plot a matrix with 2 rows and 12 columns\n",
        "  sp.axis('Off')                                             # removes background grill\n",
        "  img = x_train[i]                                        \n",
        "  plt.imshow(x_test[correct].reshape(28,28), cmap='gray', interpolation='none')  # prints image\n",
        "  plt.title(\n",
        "      'Predict: ' + str(class_idx[predicted_classes[correct]]) +\n",
        "      '\\nTruth: ' + str(class_idx[test_labels[correct]])\n",
        "  )\n",
        "  #fig = plt.figure(figsize=(12,6))\n",
        "  print(\"Incorrect predictions\")\n",
        "\n",
        "for i, correct in enumerate(incorrect_indices[:12]):\n",
        "  rows = 2\n",
        "  columns = 12\n",
        "  sp = fig.add_subplot( rows, columns , i+1)                 # plot a matrix with 2 rows and 12 columns\n",
        "  sp.axis('Off')                                             # removes background grill\n",
        "  img = x_train[i]                                        \n",
        "  plt.imshow(x_test[correct].reshape(28,28), cmap='gray', interpolation='none')  # prints image\n",
        "  plt.title(\n",
        "      'Predict: ' + str(class_idx[predicted_classes[correct]]) +\n",
        "      '\\nTruth: ' + str(class_idx[test_labels[correct]])\n",
        "  )"
      ],
      "execution_count": 53,
      "outputs": [
        {
          "output_type": "stream",
          "text": [
            "\n",
            "5778  classified correctly\n",
            "110545  classified incorrectly\n",
            "Incorrect predictions\n",
            "Incorrect predictions\n",
            "Incorrect predictions\n",
            "Incorrect predictions\n",
            "Incorrect predictions\n",
            "Incorrect predictions\n",
            "Incorrect predictions\n",
            "Incorrect predictions\n",
            "Incorrect predictions\n",
            "Incorrect predictions\n",
            "Incorrect predictions\n",
            "Incorrect predictions\n"
          ],
          "name": "stdout"
        },
        {
          "output_type": "display_data",
          "data": {
            "image/png": "[encoded data removed]",
            "text/plain": [
              "<Figure size 864x432 with 1 Axes>"
            ]
          },
          "metadata": {
            "tags": []
          }
        },
        {
          "output_type": "display_data",
          "data": {
            "image/png": "[encoded data removed]",
            "text/plain": [
              "<Figure size 864x432 with 1 Axes>"
            ]
          },
          "metadata": {
            "tags": []
          }
        },
        {
          "output_type": "display_data",
          "data": {
            "image/png": "[encoded data removed]",
            "text/plain": [
              "<Figure size 864x432 with 1 Axes>"
            ]
          },
          "metadata": {
            "tags": []
          }
        },
        {
          "output_type": "display_data",
          "data": {
            "image/png": "[encoded data removed]",
            "text/plain": [
              "<Figure size 864x432 with 1 Axes>"
            ]
          },
          "metadata": {
            "tags": []
          }
        },
        {
          "output_type": "display_data",
          "data": {
            "image/png": "[encoded data removed]",
            "text/plain": [
              "<Figure size 864x432 with 1 Axes>"
            ]
          },
          "metadata": {
            "tags": []
          }
        },
        {
          "output_type": "display_data",
          "data": {
            "image/png": "[encoded data removed]",
            "text/plain": [
              "<Figure size 864x432 with 1 Axes>"
            ]
          },
          "metadata": {
            "tags": []
          }
        },
        {
          "output_type": "display_data",
          "data": {
            "image/png": "[encoded data removed]",
            "text/plain": [
              "<Figure size 864x432 with 1 Axes>"
            ]
          },
          "metadata": {
            "tags": []
          }
        },
        {
          "output_type": "display_data",
          "data": {
            "image/png": "[encoded data removed]",
            "text/plain": [
              "<Figure size 864x432 with 1 Axes>"
            ]
          },
          "metadata": {
            "tags": []
          }
        },
        {
          "output_type": "display_data",
          "data": {
            "image/png": "[encoded data removed]",
            "text/plain": [
              "<Figure size 864x432 with 1 Axes>"
            ]
          },
          "metadata": {
            "tags": []
          }
        },
        {
          "output_type": "display_data",
          "data": {
            "image/png": "[encoded data removed]",
            "text/plain": [
              "<Figure size 864x432 with 1 Axes>"
            ]
          },
          "metadata": {
            "tags": []
          }
        },
        {
          "output_type": "display_data",
          "data": {
            "image/png": "[encoded data removed]",
            "text/plain": [
              "<Figure size 864x432 with 1 Axes>"
            ]
          },
          "metadata": {
            "tags": []
          }
        },
        {
          "output_type": "display_data",
          "data": {
            "image/png": "[encoded data removed]",
            "text/plain": [
              "<Figure size 864x432 with 1 Axes>"
            ]
          },
          "metadata": {
            "tags": []
          }
        },
        {
          "output_type": "display_data",
          "data": {
            "image/png": "[encoded data removed]",
            "text/plain": [
              "<Figure size 864x432 with 12 Axes>"
            ]
          },
          "metadata": {
            "tags": []
          }
        }
      ]
    }
  ]
}